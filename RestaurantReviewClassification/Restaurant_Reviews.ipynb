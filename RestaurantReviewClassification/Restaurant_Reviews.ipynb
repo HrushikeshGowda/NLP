{
 "cells": [
  {
   "cell_type": "code",
   "execution_count": 1,
   "id": "6a46d845",
   "metadata": {},
   "outputs": [],
   "source": [
    "import pandas as pd\n",
    "import numpy as np"
   ]
  },
  {
   "cell_type": "code",
   "execution_count": 7,
   "id": "6b998e85",
   "metadata": {},
   "outputs": [
    {
     "data": {
      "text/html": [
       "<div>\n",
       "<style scoped>\n",
       "    .dataframe tbody tr th:only-of-type {\n",
       "        vertical-align: middle;\n",
       "    }\n",
       "\n",
       "    .dataframe tbody tr th {\n",
       "        vertical-align: top;\n",
       "    }\n",
       "\n",
       "    .dataframe thead th {\n",
       "        text-align: right;\n",
       "    }\n",
       "</style>\n",
       "<table border=\"1\" class=\"dataframe\">\n",
       "  <thead>\n",
       "    <tr style=\"text-align: right;\">\n",
       "      <th></th>\n",
       "      <th>Review</th>\n",
       "      <th>Liked</th>\n",
       "    </tr>\n",
       "  </thead>\n",
       "  <tbody>\n",
       "    <tr>\n",
       "      <th>0</th>\n",
       "      <td>Wow... Loved this place.</td>\n",
       "      <td>1</td>\n",
       "    </tr>\n",
       "    <tr>\n",
       "      <th>1</th>\n",
       "      <td>Crust is not good.</td>\n",
       "      <td>0</td>\n",
       "    </tr>\n",
       "    <tr>\n",
       "      <th>2</th>\n",
       "      <td>Not tasty and the texture was just nasty.</td>\n",
       "      <td>0</td>\n",
       "    </tr>\n",
       "    <tr>\n",
       "      <th>3</th>\n",
       "      <td>Stopped by during the late May bank holiday of...</td>\n",
       "      <td>1</td>\n",
       "    </tr>\n",
       "    <tr>\n",
       "      <th>4</th>\n",
       "      <td>The selection on the menu was great and so wer...</td>\n",
       "      <td>1</td>\n",
       "    </tr>\n",
       "  </tbody>\n",
       "</table>\n",
       "</div>"
      ],
      "text/plain": [
       "                                              Review  Liked\n",
       "0                           Wow... Loved this place.      1\n",
       "1                                 Crust is not good.      0\n",
       "2          Not tasty and the texture was just nasty.      0\n",
       "3  Stopped by during the late May bank holiday of...      1\n",
       "4  The selection on the menu was great and so wer...      1"
      ]
     },
     "execution_count": 7,
     "metadata": {},
     "output_type": "execute_result"
    }
   ],
   "source": [
    "data = pd.read_csv(r'D:\\PYTHON_OVERALL\\jupyter files\\Restaurant_Reviews.txt' , sep = '\\t' , quoting = 3)\n",
    "data.head()"
   ]
  },
  {
   "cell_type": "code",
   "execution_count": 8,
   "id": "e20c5b02",
   "metadata": {},
   "outputs": [
    {
     "data": {
      "text/plain": [
       "Review    0\n",
       "Liked     0\n",
       "dtype: int64"
      ]
     },
     "execution_count": 8,
     "metadata": {},
     "output_type": "execute_result"
    }
   ],
   "source": [
    "data.isnull().sum()"
   ]
  },
  {
   "cell_type": "code",
   "execution_count": 9,
   "id": "ddab8249",
   "metadata": {},
   "outputs": [
    {
     "data": {
      "text/plain": [
       "1    500\n",
       "0    500\n",
       "Name: Liked, dtype: int64"
      ]
     },
     "execution_count": 9,
     "metadata": {},
     "output_type": "execute_result"
    }
   ],
   "source": [
    "data['Liked'].value_counts()"
   ]
  },
  {
   "cell_type": "code",
   "execution_count": 1,
   "id": "b77b87b1",
   "metadata": {},
   "outputs": [],
   "source": [
    "import re\n",
    "from nltk.corpus import stopwords\n",
    "from nltk.stem.porter import PorterStemmer\n",
    "\n",
    "ps = PorterStemmer()"
   ]
  },
  {
   "cell_type": "code",
   "execution_count": 31,
   "id": "bfe27829",
   "metadata": {},
   "outputs": [
    {
     "data": {
      "text/plain": [
       "179"
      ]
     },
     "execution_count": 31,
     "metadata": {},
     "output_type": "execute_result"
    }
   ],
   "source": [
    "sp = stopwords.words('english')\n",
    "len(sp)"
   ]
  },
  {
   "cell_type": "code",
   "execution_count": 41,
   "id": "c8e6b6f5",
   "metadata": {},
   "outputs": [],
   "source": [
    "def sub_split_clean(line):\n",
    "    line = re.sub('[^a-zA-Z]' , ' ' , line)\n",
    "    line = line.lower()\n",
    "    line = line.split()\n",
    "    line = [word for word in line if word not in sp]\n",
    "    line = [ps.stem(word) for word in line]\n",
    "    return ' '.join(line)"
   ]
  },
  {
   "cell_type": "code",
   "execution_count": 42,
   "id": "bca5296a",
   "metadata": {},
   "outputs": [
    {
     "data": {
      "text/plain": [
       "0                                         wow love place\n",
       "1                                             crust good\n",
       "2                                     tasti textur nasti\n",
       "3      stop late may bank holiday rick steve recommen...\n",
       "4                                select menu great price\n",
       "                             ...                        \n",
       "995                        think food flavor textur lack\n",
       "996                               appetit instantli gone\n",
       "997                         overal impress would go back\n",
       "998    whole experi underwhelm think go ninja sushi n...\n",
       "999    wast enough life pour salt wound draw time too...\n",
       "Name: Review, Length: 1000, dtype: object"
      ]
     },
     "execution_count": 42,
     "metadata": {},
     "output_type": "execute_result"
    }
   ],
   "source": [
    "data['Review'].apply(sub_split_clean)"
   ]
  },
  {
   "cell_type": "code",
   "execution_count": 43,
   "id": "0cdc4edf",
   "metadata": {},
   "outputs": [
    {
     "data": {
      "text/html": [
       "<div>\n",
       "<style scoped>\n",
       "    .dataframe tbody tr th:only-of-type {\n",
       "        vertical-align: middle;\n",
       "    }\n",
       "\n",
       "    .dataframe tbody tr th {\n",
       "        vertical-align: top;\n",
       "    }\n",
       "\n",
       "    .dataframe thead th {\n",
       "        text-align: right;\n",
       "    }\n",
       "</style>\n",
       "<table border=\"1\" class=\"dataframe\">\n",
       "  <thead>\n",
       "    <tr style=\"text-align: right;\">\n",
       "      <th></th>\n",
       "      <th>Review</th>\n",
       "      <th>Liked</th>\n",
       "      <th>clean_review</th>\n",
       "    </tr>\n",
       "  </thead>\n",
       "  <tbody>\n",
       "    <tr>\n",
       "      <th>0</th>\n",
       "      <td>Wow... Loved this place.</td>\n",
       "      <td>1</td>\n",
       "      <td>wow love place</td>\n",
       "    </tr>\n",
       "    <tr>\n",
       "      <th>1</th>\n",
       "      <td>Crust is not good.</td>\n",
       "      <td>0</td>\n",
       "      <td>crust good</td>\n",
       "    </tr>\n",
       "    <tr>\n",
       "      <th>2</th>\n",
       "      <td>Not tasty and the texture was just nasty.</td>\n",
       "      <td>0</td>\n",
       "      <td>tasti textur nasti</td>\n",
       "    </tr>\n",
       "    <tr>\n",
       "      <th>3</th>\n",
       "      <td>Stopped by during the late May bank holiday of...</td>\n",
       "      <td>1</td>\n",
       "      <td>stop late may bank holiday rick steve recommen...</td>\n",
       "    </tr>\n",
       "    <tr>\n",
       "      <th>4</th>\n",
       "      <td>The selection on the menu was great and so wer...</td>\n",
       "      <td>1</td>\n",
       "      <td>select menu great price</td>\n",
       "    </tr>\n",
       "  </tbody>\n",
       "</table>\n",
       "</div>"
      ],
      "text/plain": [
       "                                              Review  Liked  \\\n",
       "0                           Wow... Loved this place.      1   \n",
       "1                                 Crust is not good.      0   \n",
       "2          Not tasty and the texture was just nasty.      0   \n",
       "3  Stopped by during the late May bank holiday of...      1   \n",
       "4  The selection on the menu was great and so wer...      1   \n",
       "\n",
       "                                        clean_review  \n",
       "0                                     wow love place  \n",
       "1                                         crust good  \n",
       "2                                 tasti textur nasti  \n",
       "3  stop late may bank holiday rick steve recommen...  \n",
       "4                            select menu great price  "
      ]
     },
     "execution_count": 43,
     "metadata": {},
     "output_type": "execute_result"
    }
   ],
   "source": [
    "data['clean_review'] = data['Review'].apply(sub_split_clean)\n",
    "data.head()"
   ]
  },
  {
   "cell_type": "code",
   "execution_count": 12,
   "id": "5a523865",
   "metadata": {},
   "outputs": [],
   "source": [
    "from sklearn.feature_extraction.text import CountVectorizer , TfidfTransformer"
   ]
  },
  {
   "cell_type": "code",
   "execution_count": 44,
   "id": "2f48edde",
   "metadata": {},
   "outputs": [],
   "source": [
    "cv = CountVectorizer(stop_words = 'english')\n",
    "tfidf = TfidfTransformer()"
   ]
  },
  {
   "cell_type": "code",
   "execution_count": 46,
   "id": "12718395",
   "metadata": {},
   "outputs": [],
   "source": [
    "from sklearn.model_selection import train_test_split"
   ]
  },
  {
   "cell_type": "code",
   "execution_count": 47,
   "id": "6b2cd580",
   "metadata": {},
   "outputs": [],
   "source": [
    "x = data['clean_review']\n",
    "y = data['Liked']"
   ]
  },
  {
   "cell_type": "code",
   "execution_count": 59,
   "id": "963a1d2c",
   "metadata": {},
   "outputs": [],
   "source": [
    "X_Train,X_Test,Y_Train,Y_Test = train_test_split(x,y,test_size = 0.2 , random_state = 42)"
   ]
  },
  {
   "cell_type": "code",
   "execution_count": 60,
   "id": "74aca4cf",
   "metadata": {},
   "outputs": [],
   "source": [
    "cv_train = cv.fit_transform(X_Train)\n",
    "tfidf_train = tfidf.fit_transform(cv_train)"
   ]
  },
  {
   "cell_type": "code",
   "execution_count": 61,
   "id": "46dedd50",
   "metadata": {},
   "outputs": [],
   "source": [
    "cv_test = cv.transform(X_Test)\n",
    "tfidf_test = tfidf.transform(cv_test)"
   ]
  },
  {
   "cell_type": "code",
   "execution_count": 86,
   "id": "bd4c6f84",
   "metadata": {},
   "outputs": [],
   "source": [
    "from sklearn.svm import SVC\n",
    "from sklearn.linear_model import LogisticRegression\n",
    "from sklearn.naive_bayes import MultinomialNB , GaussianNB\n",
    "from sklearn.neighbors import KNeighborsClassifier\n",
    "from sklearn.metrics import accuracy_score, confusion_matrix,classification_report"
   ]
  },
  {
   "cell_type": "code",
   "execution_count": 88,
   "id": "8b192463",
   "metadata": {},
   "outputs": [],
   "source": [
    "svc = SVC()\n",
    "lr = LogisticRegression()\n",
    "knn = KNeighborsClassifier(5)\n",
    "mnb = MultinomialNB()\n",
    "gnb = GaussianNB()"
   ]
  },
  {
   "cell_type": "code",
   "execution_count": 89,
   "id": "4f575234",
   "metadata": {},
   "outputs": [
    {
     "data": {
      "text/plain": [
       "(800, 1297)"
      ]
     },
     "execution_count": 89,
     "metadata": {},
     "output_type": "execute_result"
    }
   ],
   "source": [
    "tfidf_train.shape"
   ]
  },
  {
   "cell_type": "code",
   "execution_count": 90,
   "id": "0cee3685",
   "metadata": {},
   "outputs": [
    {
     "data": {
      "text/plain": [
       "((800,), (800,))"
      ]
     },
     "execution_count": 90,
     "metadata": {},
     "output_type": "execute_result"
    }
   ],
   "source": [
    "Y_Train.shape, X_Train.shape"
   ]
  },
  {
   "cell_type": "code",
   "execution_count": 99,
   "id": "ffa6e478",
   "metadata": {},
   "outputs": [
    {
     "data": {
      "text/plain": [
       "{'svc': {'accuracy': 0.77,\n",
       "  'confusion_matrix': array([[82, 14],\n",
       "         [32, 72]], dtype=int64)},\n",
       " 'lr': {'accuracy': 0.72,\n",
       "  'confusion_matrix': array([[77, 19],\n",
       "         [37, 67]], dtype=int64)},\n",
       " 'knn': {'accuracy': 0.525,\n",
       "  'confusion_matrix': array([[95,  1],\n",
       "         [94, 10]], dtype=int64)},\n",
       " 'mnb': {'accuracy': 0.745,\n",
       "  'confusion_matrix': array([[69, 27],\n",
       "         [24, 80]], dtype=int64)},\n",
       " 'gnb': {'accuracy': 0.71,\n",
       "  'confusion_matrix': array([[57, 39],\n",
       "         [19, 85]], dtype=int64)}}"
      ]
     },
     "execution_count": 99,
     "metadata": {},
     "output_type": "execute_result"
    }
   ],
   "source": [
    "models = [('svc',svc)  , ('lr',lr), ('knn',knn), ('mnb',mnb) , ('gnb',gnb)]\n",
    "\n",
    "results = dict()\n",
    "\n",
    "for model in models:\n",
    "    name ,model = model\n",
    "    model.fit(tfidf_train.toarray() , Y_Train)\n",
    "    y_pred = model.predict(tfidf_test.toarray())\n",
    "    acc = accuracy_score(Y_Test , y_pred)\n",
    "    cm = confusion_matrix(Y_Test ,  y_pred)\n",
    "    results[name] = {'accuracy':acc, 'confusion_matrix':cm}\n",
    "    \n",
    "results"
   ]
  },
  {
   "cell_type": "code",
   "execution_count": 78,
   "id": "1815809c",
   "metadata": {},
   "outputs": [
    {
     "data": {
      "text/plain": [
       "dict_keys(['svc', 'lr', 'knn', 'mnb'])"
      ]
     },
     "execution_count": 78,
     "metadata": {},
     "output_type": "execute_result"
    }
   ],
   "source": [
    "results.keys()"
   ]
  },
  {
   "cell_type": "code",
   "execution_count": 101,
   "id": "763f0117",
   "metadata": {},
   "outputs": [
    {
     "name": "stdout",
     "output_type": "stream",
     "text": [
      "0.77\n"
     ]
    },
    {
     "data": {
      "text/plain": [
       "array([[82, 14],\n",
       "       [32, 72]], dtype=int64)"
      ]
     },
     "execution_count": 101,
     "metadata": {},
     "output_type": "execute_result"
    }
   ],
   "source": [
    "print(results['svc']['accuracy'])\n",
    "results['svc']['confusion_matrix']"
   ]
  },
  {
   "cell_type": "code",
   "execution_count": 102,
   "id": "d0133c3f",
   "metadata": {},
   "outputs": [
    {
     "name": "stdout",
     "output_type": "stream",
     "text": [
      "0.72\n"
     ]
    },
    {
     "data": {
      "text/plain": [
       "array([[77, 19],\n",
       "       [37, 67]], dtype=int64)"
      ]
     },
     "execution_count": 102,
     "metadata": {},
     "output_type": "execute_result"
    }
   ],
   "source": [
    "print(results['lr']['accuracy'])\n",
    "results['lr']['confusion_matrix']"
   ]
  },
  {
   "cell_type": "code",
   "execution_count": 103,
   "id": "0f458b99",
   "metadata": {},
   "outputs": [
    {
     "name": "stdout",
     "output_type": "stream",
     "text": [
      "0.525\n"
     ]
    },
    {
     "data": {
      "text/plain": [
       "array([[95,  1],\n",
       "       [94, 10]], dtype=int64)"
      ]
     },
     "execution_count": 103,
     "metadata": {},
     "output_type": "execute_result"
    }
   ],
   "source": [
    "print(results['knn']['accuracy'])\n",
    "results['knn']['confusion_matrix']"
   ]
  },
  {
   "cell_type": "code",
   "execution_count": 104,
   "id": "53b30678",
   "metadata": {},
   "outputs": [
    {
     "name": "stdout",
     "output_type": "stream",
     "text": [
      "0.745\n"
     ]
    },
    {
     "data": {
      "text/plain": [
       "array([[69, 27],\n",
       "       [24, 80]], dtype=int64)"
      ]
     },
     "execution_count": 104,
     "metadata": {},
     "output_type": "execute_result"
    }
   ],
   "source": [
    "print(results['mnb']['accuracy'])\n",
    "results['mnb']['confusion_matrix']"
   ]
  },
  {
   "cell_type": "code",
   "execution_count": 105,
   "id": "01e9751b",
   "metadata": {},
   "outputs": [
    {
     "name": "stdout",
     "output_type": "stream",
     "text": [
      "0.71\n"
     ]
    },
    {
     "data": {
      "text/plain": [
       "array([[57, 39],\n",
       "       [19, 85]], dtype=int64)"
      ]
     },
     "execution_count": 105,
     "metadata": {},
     "output_type": "execute_result"
    }
   ],
   "source": [
    "print(results['gnb']['accuracy'])\n",
    "results['gnb']['confusion_matrix']"
   ]
  },
  {
   "cell_type": "code",
   "execution_count": null,
   "id": "696aa7a7",
   "metadata": {},
   "outputs": [],
   "source": []
  },
  {
   "cell_type": "code",
   "execution_count": null,
   "id": "dd724dff",
   "metadata": {},
   "outputs": [],
   "source": []
  }
 ],
 "metadata": {
  "kernelspec": {
   "display_name": "Python 3 (ipykernel)",
   "language": "python",
   "name": "python3"
  },
  "language_info": {
   "codemirror_mode": {
    "name": "ipython",
    "version": 3
   },
   "file_extension": ".py",
   "mimetype": "text/x-python",
   "name": "python",
   "nbconvert_exporter": "python",
   "pygments_lexer": "ipython3",
   "version": "3.9.13"
  }
 },
 "nbformat": 4,
 "nbformat_minor": 5
}
